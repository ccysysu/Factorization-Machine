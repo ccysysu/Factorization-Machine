{
 "cells": [
  {
   "cell_type": "code",
   "execution_count": 3,
   "metadata": {},
   "outputs": [
    {
     "name": "stdout",
     "output_type": "stream",
     "text": [
      "[['aaa' '21' '50']\n",
      " ['bbb' '22' '70']]\n"
     ]
    }
   ],
   "source": [
    "import numpy as np\n",
    "student=np.dtype([('name','S20'),('age','i1'),('marks','f4')])\n",
    "a = np.array([('aaa',21,50),('bbb',22,70)])\n",
    "print(a)"
   ]
  },
  {
   "cell_type": "code",
   "execution_count": 14,
   "metadata": {},
   "outputs": [
    {
     "data": {
      "text/plain": [
       "array([[ 0,  1,  2,  3,  4,  5,  6,  7,  8,  9, 10, 11],\n",
       "       [12, 13, 14, 15, 16, 17, 18, 19, 20, 21, 22, 23]])"
      ]
     },
     "execution_count": 14,
     "metadata": {},
     "output_type": "execute_result"
    }
   ],
   "source": [
    "a = np.arange(24)\n",
    "a.shape=(2,12)\n",
    "a"
   ]
  },
  {
   "cell_type": "code",
   "execution_count": 24,
   "metadata": {},
   "outputs": [
    {
     "name": "stdout",
     "output_type": "stream",
     "text": [
      "[[(0., 0) (0., 0)]\n",
      " [(0., 0) (0., 0)]\n",
      " [(0., 0) (0., 0)]\n",
      " [(0., 0) (0., 0)]\n",
      " [(0., 0) (0., 0)]]\n"
     ]
    }
   ],
   "source": [
    "deff = np.dtype([('x','f4'),('y','i2')])\n",
    "x = np.zeros([5,2],dtype=deff)\n",
    "print(x)"
   ]
  },
  {
   "cell_type": "code",
   "execution_count": 45,
   "metadata": {},
   "outputs": [
    {
     "data": {
      "text/plain": [
       "array([10.        , 10.90909091, 11.81818182, 12.72727273, 13.63636364,\n",
       "       14.54545455, 15.45454545, 16.36363636, 17.27272727, 18.18181818,\n",
       "       19.09090909, 20.        ])"
      ]
     },
     "execution_count": 45,
     "metadata": {},
     "output_type": "execute_result"
    }
   ],
   "source": [
    "x = np.linspace(10,20,12)\n",
    "c = x.reshape(12,1)\n",
    "\n",
    "x"
   ]
  },
  {
   "cell_type": "code",
   "execution_count": 58,
   "metadata": {},
   "outputs": [
    {
     "data": {
      "text/plain": [
       "array([ 3,  5,  7,  9, 11, 13, 15, 17, 19])"
      ]
     },
     "execution_count": 58,
     "metadata": {},
     "output_type": "execute_result"
    }
   ],
   "source": [
    "a  = np.arange(20)\n",
    "a.shape = (10,2)\n",
    "a[1:,1]\n"
   ]
  },
  {
   "cell_type": "code",
   "execution_count": 66,
   "metadata": {},
   "outputs": [
    {
     "data": {
      "text/plain": [
       "array([[ 0,  2],\n",
       "       [ 9, 11]])"
      ]
     },
     "execution_count": 66,
     "metadata": {},
     "output_type": "execute_result"
    }
   ],
   "source": [
    "x = np.array([[  0,  1,  2],[  3,  4,  5],[  6,  7,  8],[  9,  10,  11]])  \n",
    "y = x[[[0,0],[3,3]],[[0,2],[0,2]]]\n",
    "y"
   ]
  },
  {
   "cell_type": "code",
   "execution_count": 22,
   "metadata": {},
   "outputs": [],
   "source": [
    "#录入用户评价数据\n",
    "mu = np.array([[5,5,0,0],[5,None,None,0],[None,4,0,None],[0,0,5,4],[0,0,5,None]])\n",
    "x = np.array([[0.9,0],[1,0.01],[0.99,0],[0.1,1],[0,0.9]])"
   ]
  },
  {
   "cell_type": "code",
   "execution_count": 213,
   "metadata": {},
   "outputs": [],
   "source": [
    "epsilon = 0.1\n",
    "alpha = 0.01\n",
    "diff = np.zeros(mu.shape)\n",
    "error1=0\n",
    "error0=0\n",
    "m = len(x)\n",
    "theta = np.zeros([m,x.shape[1]])\n",
    "error1 = float(error1)\n",
    "error0 = float(error0)"
   ]
  },
  {
   "cell_type": "code",
   "execution_count": 214,
   "metadata": {},
   "outputs": [],
   "source": [
    "def calc_diff(m ,n,theta,mu,x):\n",
    "    for i in range(m):\n",
    "        for j in range(n):\n",
    "            if mu[j,i] != None:\n",
    "                diff[j,i] = mu[j,i]-theta[i,0]*x[j,0]-theta[i,1]*x[j,1]\n",
    "    return diff"
   ]
  },
  {
   "cell_type": "code",
   "execution_count": 215,
   "metadata": {},
   "outputs": [],
   "source": [
    "def update_theta(m,n,theta,x,diff,alpha):\n",
    "    for i in range(m):\n",
    "        for j in range(n):\n",
    "            theta[i,0] = theta[i,0]+alpha*(diff[j,i]*x[j,0])\n",
    "            theta[i,1] = theta[i,1]+alpha*(diff[j,i]*x[j,1])\n",
    "    return theta"
   ]
  },
  {
   "cell_type": "code",
   "execution_count": 216,
   "metadata": {},
   "outputs": [],
   "source": [
    "while True:\n",
    "    diff = calc_diff(4,5,theta,mu,x)\n",
    "    theta = update_theta(4,5,theta,x,diff,alpha)\n",
    "    diff = calc_diff(4,5,theta,mu,x)\n",
    "    error1= 0.0\n",
    "    for i in range(4):\n",
    "        for j in range(5):\n",
    "            if mu[j,i]!=None:\n",
    "                error1 += (diff[j,i])**2/2\n",
    "    \n",
    "    if abs(error1-error0)<epsilon:\n",
    "        break\n",
    "    else:\n",
    "        error0 = error1"
   ]
  },
  {
   "cell_type": "code",
   "execution_count": 219,
   "metadata": {},
   "outputs": [
    {
     "data": {
      "text/plain": [
       "4.06322537335313"
      ]
     },
     "execution_count": 219,
     "metadata": {},
     "output_type": "execute_result"
    }
   ],
   "source": [
    "error0"
   ]
  },
  {
   "cell_type": "code",
   "execution_count": 217,
   "metadata": {},
   "outputs": [
    {
     "data": {
      "text/plain": [
       "3.964434695567142"
      ]
     },
     "execution_count": 217,
     "metadata": {},
     "output_type": "execute_result"
    }
   ],
   "source": [
    "error1"
   ]
  },
  {
   "cell_type": "code",
   "execution_count": 218,
   "metadata": {},
   "outputs": [
    {
     "data": {
      "text/plain": [
       "array([[ 4.34506914, -0.14447313],\n",
       "       [ 3.89647449, -0.13626006],\n",
       "       [ 0.07727739,  4.35227247],\n",
       "       [ 0.09399086,  2.48505573],\n",
       "       [ 0.        ,  0.        ]])"
      ]
     },
     "execution_count": 218,
     "metadata": {},
     "output_type": "execute_result"
    }
   ],
   "source": [
    "theta"
   ]
  },
  {
   "cell_type": "code",
   "execution_count": null,
   "metadata": {},
   "outputs": [],
   "source": []
  }
 ],
 "metadata": {
  "kernelspec": {
   "display_name": "Python 3",
   "language": "python",
   "name": "python3"
  },
  "language_info": {
   "codemirror_mode": {
    "name": "ipython",
    "version": 3
   },
   "file_extension": ".py",
   "mimetype": "text/x-python",
   "name": "python",
   "nbconvert_exporter": "python",
   "pygments_lexer": "ipython3",
   "version": "3.7.1"
  }
 },
 "nbformat": 4,
 "nbformat_minor": 2
}
