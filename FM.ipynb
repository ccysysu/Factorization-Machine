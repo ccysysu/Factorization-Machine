{
 "cells": [
  {
   "cell_type": "code",
   "execution_count": 1,
   "metadata": {},
   "outputs": [],
   "source": [
    "import numpy as np"
   ]
  },
  {
   "cell_type": "code",
   "execution_count": 282,
   "metadata": {},
   "outputs": [],
   "source": [
    "#输入数据\n",
    "x = np.array([[1,0,1,0,0,1,0],[0,1,0,1,0,0,1],[0,1,0,0,1,0,1]])\n",
    "y = np.array([2,3,5])"
   ]
  },
  {
   "cell_type": "code",
   "execution_count": 379,
   "metadata": {
    "scrolled": true
   },
   "outputs": [],
   "source": [
    "#定义系数\n",
    "w = np.zeros((x.shape[1]))\n",
    "#隐变量个数\n",
    "k = 2\n",
    "v = np.random.rand(x.shape[1],k)\n",
    "w0 = np.zeros((y.shape))\n",
    "diff = np.zeros((y.shape))"
   ]
  },
  {
   "cell_type": "code",
   "execution_count": 378,
   "metadata": {},
   "outputs": [],
   "source": [
    "#梯度下降算法参数\n",
    "error0 = 0.0\n",
    "error1 = 0.0\n",
    "#学习率\n",
    "alpha = 0.001\n",
    "#截止值\n",
    "epsilon = 0.0001\n",
    "m = x.shape[1]"
   ]
  },
  {
   "cell_type": "code",
   "execution_count": 349,
   "metadata": {},
   "outputs": [],
   "source": [
    "#计算误差 m为变量个数，v为隐矩阵，x为特征矩阵，y为评分矩阵\n",
    "def diff_calc(m,v,x,y):\n",
    "    erci = np.zeros((x.shape[0],))\n",
    "    for i in range(m):\n",
    "        for j in range(i+1,m):\n",
    "            erci += np.vdot(v[i,...],v[j,...])*x[...,i]*x[...,j]\n",
    "    diff = w0 + np.dot(x,w) + erci -y\n",
    "    return diff"
   ]
  },
  {
   "cell_type": "code",
   "execution_count": 370,
   "metadata": {},
   "outputs": [],
   "source": [
    "#更新v  m为变量个数，k为隐变量个数，x为特征矩阵，alpha为学习率，diff为模型误差\n",
    "def update_erci(m,k,v,x,diff,alpha):\n",
    "    vv = v.copy()\n",
    "    for i in range(m):\n",
    "        xx = np.zeros(3)\n",
    "        for j in range(m):\n",
    "            if j != i:\n",
    "                xx += x[...,j]\n",
    "        for kk in range(k):\n",
    "            v[i,kk] = v[i,kk] - alpha * np.sum(diff) * (np.sum(vv,axis = 0)[kk]- vv[i,kk]) * np.inner(x[...,i],xx)\n",
    "    return v"
   ]
  },
  {
   "cell_type": "code",
   "execution_count": 371,
   "metadata": {},
   "outputs": [],
   "source": [
    "#更新一次项系数w  x为特征矩阵，alpha为学习率，diff为模型误差\n",
    "def update_yici(w,x,diff,alpha):\n",
    "    w = w - alpha * np.sum(diff) * np.sum(x,axis=0)\n",
    "    return w"
   ]
  },
  {
   "cell_type": "code",
   "execution_count": 380,
   "metadata": {},
   "outputs": [],
   "source": [
    "while True:\n",
    "    diff = diff_calc(m,v,x,y)\n",
    "    w = update_yici(w,x,diff,alpha)\n",
    "    v = update_erci(m,k,v,vv,x,diff,alpha)\n",
    "    diff = diff_calc(m,v,x,y)\n",
    "    error1 = 0.0\n",
    "    for i in range(x.shape[0]):\n",
    "        error1 += diff[i]**2/2\n",
    "    if abs(error1-error0)<epsilon:\n",
    "        break\n",
    "    else:\n",
    "        error0 = error1"
   ]
  },
  {
   "cell_type": "code",
   "execution_count": 386,
   "metadata": {},
   "outputs": [
    {
     "data": {
      "text/plain": [
       "7"
      ]
     },
     "execution_count": 386,
     "metadata": {},
     "output_type": "execute_result"
    }
   ],
   "source": []
  }
 ],
 "metadata": {
  "kernelspec": {
   "display_name": "Python 3",
   "language": "python",
   "name": "python3"
  },
  "language_info": {
   "codemirror_mode": {
    "name": "ipython",
    "version": 3
   },
   "file_extension": ".py",
   "mimetype": "text/x-python",
   "name": "python",
   "nbconvert_exporter": "python",
   "pygments_lexer": "ipython3",
   "version": "3.7.1"
  }
 },
 "nbformat": 4,
 "nbformat_minor": 2
}
